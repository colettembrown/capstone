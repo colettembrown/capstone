{
 "cells": [
  {
   "cell_type": "code",
   "execution_count": 3,
   "metadata": {
    "collapsed": true
   },
   "outputs": [],
   "source": [
    "import matplotlib.pyplot as plt\n",
    "from random import choice\n",
    "import networkx as nx\n",
    "import pandas as pd\n",
    "import numpy as np\n",
    "import random\n",
    "import seaborn as sns\n",
    "%matplotlib inline"
   ]
  },
  {
   "cell_type": "code",
   "execution_count": 6,
   "metadata": {
    "collapsed": false
   },
   "outputs": [],
   "source": [
    "class SupplyChain():\n",
    "    '''\n",
    "    Simulate a supply chain from a directed tree graph. The flow\n",
    "    of products between nodes is modeled to show how changes in \n",
    "    the type of garment--sustainable vs. unsustainable--change the \n",
    "    environmental impact of each factory. \n",
    "    '''\n",
    "\n",
    "    def __init__(self, \n",
    "                 type_of_garment,\n",
    "                 # num_garments,\n",
    "                 dates\n",
    "                 ):\n",
    "       \n",
    "        '''\n",
    "        Inputs:\n",
    "        \n",
    "            type_of_garment (binary) The parameter can be personalized:\n",
    "              (1) sustainable (0) unsustainable. \n",
    "              Default: sustainable.\n",
    "            \n",
    "            num_garments (binary) The parameter can be personalized: \n",
    "              (1) one garment (0) total production.\n",
    "              Default: 1. \n",
    "            \n",
    "            dates (year) The years of data that are analyzed. Enter up to\n",
    "              three years to be analyzed.\n",
    "              Default: 2017. \n",
    "        '''\n",
    "        \n",
    "        \n",
    "        self.type_of_garment = type_of_garment\n",
    "        self.dates = dates\n",
    "#         self.num_garments = num_garments\n",
    "    \n",
    "        if self.type_of_garment == \"unsustainable\":\n",
    "            self.edge_data = pd.read_csv(\"../acapstone/data/factory_names/unsustainable_factory_names.csv\")\n",
    "            self.node_data = self.edge_data[\"SOURCE\"]\n",
    "            \n",
    "        elif self.type_of_garment == \"sustainable\":\n",
    "            self.edge_data = pd.read_csv(\"../acapstone/data/factory_names/sustainable_factory_names.csv\")\n",
    "            self.node_data = self.edge_data[\"SOURCE\"]\n",
    "    \n",
    "        self.supply_chain = nx.from_pandas_edgelist(df=self.edge_data, \n",
    "                                    source=\"SOURCE\", \n",
    "                                    target=\"TARGET\",\n",
    "                                    create_using=nx.DiGraph())\n",
    "    \n",
    "        self.load_data()\n",
    "    \n",
    "    def observe(self):\n",
    "        '''\n",
    "        Draw the state of the network.\n",
    "        '''\n",
    "        pos = nx.spring_layout(self.supply_chain)\n",
    "        nx.draw_networkx_nodes(self.supply_chain, pos, node_size = 500)\n",
    "        nx.draw_networkx_labels(self.supply_chain, pos)\n",
    "        nx.draw_networkx_edges(self.supply_chain, pos, arrows=True)\n",
    "        plt.show()\n",
    "        \n",
    "        \n",
    "    def load_data(self):\n",
    "        '''\n",
    "        Loading all of the data for each factory including date, type, and quantity. \n",
    "        Once the data is loaded as individual variables, information is added to each node.\n",
    "        '''\n",
    "        for factory_name in self.node_data:\n",
    "            self.data_var = pd.read_csv(\"data/fuel_\" + factory_name + \".csv\")\n",
    "            self.supply_chain.node[factory_name][\"fuel_type\"] = self.data_var[\"type\"][0]\n",
    "            self.supply_chain.node[factory_name][\"fuel_unit\"] = self.data_var[\"unit\"][0]\n",
    "            self.supply_chain.node[factory_name][\"fuel_consumption\"] = \\\n",
    "                self.data_var.loc[self.data_var[\"year\"] == self.dates].quant\n",
    "            print self.supply_chain.node[factory_name][\"fuel_consumption\"]\n",
    "    \n",
    "    def aggregate_data(self): \n",
    "        # for each node, sum all values in 'fuel_consumption'\n",
    "        total_fuel_consumption = []\n",
    "        for factory_node in self.node_data:\n",
    "#             print self.supply_chain.node[factory_node][\"fuel_consumption\"]\n",
    "#             print self.supply_chain.node[factory_node]['fuel_consumption']\n",
    "            total_fuel_consumption.append((\n",
    "            self.supply_chain.node[factory_node][\"fuel_consumption\"]))\n",
    "        print sum(total_fuel_consumption)"
   ]
  },
  {
   "cell_type": "code",
   "execution_count": 7,
   "metadata": {
    "collapsed": false
   },
   "outputs": [
    {
     "name": "stdout",
     "output_type": "stream",
     "text": [
      "12     3603.55\n",
      "13    16010.19\n",
      "14    17297.24\n",
      "15    16213.32\n",
      "16    22960.72\n",
      "17    19459.31\n",
      "18    12506.62\n",
      "19    13358.30\n",
      "20    11454.44\n",
      "21    17449.59\n",
      "22    12786.99\n",
      "23    12949.92\n",
      "Name: quant, dtype: float64\n",
      "5     315.35\n",
      "6     265.12\n",
      "7     263.83\n",
      "8     271.92\n",
      "9     216.98\n",
      "10    109.17\n",
      "11    227.85\n",
      "12    165.53\n",
      "13    161.64\n",
      "14    265.40\n",
      "15     51.49\n",
      "16    206.88\n",
      "Name: quant, dtype: float64\n",
      "12    2288.0\n",
      "13    4469.0\n",
      "14    4046.0\n",
      "15    2198.0\n",
      "16    1893.0\n",
      "17    3564.0\n",
      "18       0.0\n",
      "19    1675.0\n",
      "20    1999.0\n",
      "21       0.0\n",
      "22    2765.0\n",
      "23       0.0\n",
      "Name: quant, dtype: float64\n"
     ]
    },
    {
     "data": {
      "image/png": "[encoded data removed]",
      "text/plain": [
       "<matplotlib.figure.Figure at 0x114cd9790>"
      ]
     },
     "metadata": {},
     "output_type": "display_data"
    }
   ],
   "source": [
    "sustain = SupplyChain(\"sustainable\", 2017)\n",
    "sustain.observe()"
   ]
  },
  {
   "cell_type": "code",
   "execution_count": null,
   "metadata": {
    "collapsed": true
   },
   "outputs": [],
   "source": []
  }
 ],
 "metadata": {
  "anaconda-cloud": {},
  "kernelspec": {
   "display_name": "Python [conda env:anaconda]",
   "language": "python",
   "name": "conda-env-anaconda-py"
  },
  "language_info": {
   "codemirror_mode": {
    "name": "ipython",
    "version": 2
   },
   "file_extension": ".py",
   "mimetype": "text/x-python",
   "name": "python",
   "nbconvert_exporter": "python",
   "pygments_lexer": "ipython2",
   "version": "2.7.12"
  }
 },
 "nbformat": 4,
 "nbformat_minor": 1
}
